{
  "nbformat": 4,
  "nbformat_minor": 0,
  "metadata": {
    "colab": {
      "provenance": [],
      "authorship_tag": "ABX9TyPRN7q0xjnsBN66wHVNZcSi",
      "include_colab_link": true
    },
    "kernelspec": {
      "name": "python3",
      "display_name": "Python 3"
    },
    "language_info": {
      "name": "python"
    }
  },
  "cells": [
    {
      "cell_type": "markdown",
      "metadata": {
        "id": "view-in-github",
        "colab_type": "text"
      },
      "source": [
        "<a href=\"https://colab.research.google.com/github/sindhu244/intermediate-task/blob/main/voice_ass.ipynb\" target=\"_parent\"><img src=\"https://colab.research.google.com/assets/colab-badge.svg\" alt=\"Open In Colab\"/></a>"
      ]
    },
    {
      "cell_type": "code",
      "execution_count": 1,
      "metadata": {
        "colab": {
          "base_uri": "https://localhost:8080/",
          "height": 842
        },
        "id": "6LFxsJFgT742",
        "outputId": "55e8d99c-8466-4961-8ad4-e520319c5412"
      },
      "outputs": [
        {
          "output_type": "stream",
          "name": "stdout",
          "text": [
            "Amigo assistance activated \n",
            "How can I help you?\n",
            "Listening...\n",
            "You: searching \n",
            "Listening...\n",
            "You: wikipedia\n",
            "Searching Wikipedia ...\n",
            "According to Wikipedia:\n",
            "Dummy Wikipedia summary for \n",
            "Listening...\n",
            "You: result\n",
            "Listening...\n",
            "You: voice\n",
            "Listening...\n",
            "You: hi\n",
            "Listening...\n",
            "You: youtube\n",
            "Listening...\n",
            "You: hlo\n",
            "Listening...\n",
            "You: voice \n",
            "Listening...\n",
            "You: google\n",
            "Listening...\n",
            "You: opening watsapp\n",
            "Listening...\n",
            "You: opening (google)\n",
            "Listening...\n"
          ]
        },
        {
          "output_type": "error",
          "ename": "KeyboardInterrupt",
          "evalue": "Interrupted by user",
          "traceback": [
            "\u001b[0;31m---------------------------------------------------------------------------\u001b[0m",
            "\u001b[0;31mKeyboardInterrupt\u001b[0m                         Traceback (most recent call last)",
            "\u001b[0;32m<ipython-input-1-c41d54397917>\u001b[0m in \u001b[0;36m<cell line: 6>\u001b[0;34m()\u001b[0m\n\u001b[1;32m      9\u001b[0m \u001b[0;34m\u001b[0m\u001b[0m\n\u001b[1;32m     10\u001b[0m     \u001b[0;32mwhile\u001b[0m \u001b[0;32mTrue\u001b[0m\u001b[0;34m:\u001b[0m\u001b[0;34m\u001b[0m\u001b[0;34m\u001b[0m\u001b[0m\n\u001b[0;32m---> 11\u001b[0;31m         \u001b[0mquery\u001b[0m \u001b[0;34m=\u001b[0m \u001b[0mtake_command\u001b[0m\u001b[0;34m(\u001b[0m\u001b[0;34m)\u001b[0m\u001b[0;34m.\u001b[0m\u001b[0mlower\u001b[0m\u001b[0;34m(\u001b[0m\u001b[0;34m)\u001b[0m\u001b[0;34m\u001b[0m\u001b[0;34m\u001b[0m\u001b[0m\n\u001b[0m\u001b[1;32m     12\u001b[0m \u001b[0;34m\u001b[0m\u001b[0m\n\u001b[1;32m     13\u001b[0m         \u001b[0;32mif\u001b[0m \u001b[0;34m'wikipedia'\u001b[0m \u001b[0;32min\u001b[0m \u001b[0mquery\u001b[0m\u001b[0;34m:\u001b[0m\u001b[0;34m\u001b[0m\u001b[0;34m\u001b[0m\u001b[0m\n",
            "\u001b[0;32m<ipython-input-1-c41d54397917>\u001b[0m in \u001b[0;36mtake_command\u001b[0;34m()\u001b[0m\n\u001b[1;32m      1\u001b[0m \u001b[0;32mdef\u001b[0m \u001b[0mtake_command\u001b[0m\u001b[0;34m(\u001b[0m\u001b[0;34m)\u001b[0m\u001b[0;34m:\u001b[0m\u001b[0;34m\u001b[0m\u001b[0;34m\u001b[0m\u001b[0m\n\u001b[1;32m      2\u001b[0m     \u001b[0mprint\u001b[0m\u001b[0;34m(\u001b[0m\u001b[0;34m\"Listening...\"\u001b[0m\u001b[0;34m)\u001b[0m\u001b[0;34m\u001b[0m\u001b[0;34m\u001b[0m\u001b[0m\n\u001b[0;32m----> 3\u001b[0;31m     \u001b[0mquery\u001b[0m \u001b[0;34m=\u001b[0m \u001b[0minput\u001b[0m\u001b[0;34m(\u001b[0m\u001b[0;34m\"You: \"\u001b[0m\u001b[0;34m)\u001b[0m\u001b[0;34m\u001b[0m\u001b[0;34m\u001b[0m\u001b[0m\n\u001b[0m\u001b[1;32m      4\u001b[0m     \u001b[0;32mreturn\u001b[0m \u001b[0mquery\u001b[0m\u001b[0;34m\u001b[0m\u001b[0;34m\u001b[0m\u001b[0m\n\u001b[1;32m      5\u001b[0m \u001b[0;34m\u001b[0m\u001b[0m\n",
            "\u001b[0;32m/usr/local/lib/python3.10/dist-packages/ipykernel/kernelbase.py\u001b[0m in \u001b[0;36mraw_input\u001b[0;34m(self, prompt)\u001b[0m\n\u001b[1;32m    849\u001b[0m                 \u001b[0;34m\"raw_input was called, but this frontend does not support input requests.\"\u001b[0m\u001b[0;34m\u001b[0m\u001b[0;34m\u001b[0m\u001b[0m\n\u001b[1;32m    850\u001b[0m             )\n\u001b[0;32m--> 851\u001b[0;31m         return self._input_request(str(prompt),\n\u001b[0m\u001b[1;32m    852\u001b[0m             \u001b[0mself\u001b[0m\u001b[0;34m.\u001b[0m\u001b[0m_parent_ident\u001b[0m\u001b[0;34m,\u001b[0m\u001b[0;34m\u001b[0m\u001b[0;34m\u001b[0m\u001b[0m\n\u001b[1;32m    853\u001b[0m             \u001b[0mself\u001b[0m\u001b[0;34m.\u001b[0m\u001b[0m_parent_header\u001b[0m\u001b[0;34m,\u001b[0m\u001b[0;34m\u001b[0m\u001b[0;34m\u001b[0m\u001b[0m\n",
            "\u001b[0;32m/usr/local/lib/python3.10/dist-packages/ipykernel/kernelbase.py\u001b[0m in \u001b[0;36m_input_request\u001b[0;34m(self, prompt, ident, parent, password)\u001b[0m\n\u001b[1;32m    893\u001b[0m             \u001b[0;32mexcept\u001b[0m \u001b[0mKeyboardInterrupt\u001b[0m\u001b[0;34m:\u001b[0m\u001b[0;34m\u001b[0m\u001b[0;34m\u001b[0m\u001b[0m\n\u001b[1;32m    894\u001b[0m                 \u001b[0;31m# re-raise KeyboardInterrupt, to truncate traceback\u001b[0m\u001b[0;34m\u001b[0m\u001b[0;34m\u001b[0m\u001b[0m\n\u001b[0;32m--> 895\u001b[0;31m                 \u001b[0;32mraise\u001b[0m \u001b[0mKeyboardInterrupt\u001b[0m\u001b[0;34m(\u001b[0m\u001b[0;34m\"Interrupted by user\"\u001b[0m\u001b[0;34m)\u001b[0m \u001b[0;32mfrom\u001b[0m \u001b[0;32mNone\u001b[0m\u001b[0;34m\u001b[0m\u001b[0;34m\u001b[0m\u001b[0m\n\u001b[0m\u001b[1;32m    896\u001b[0m             \u001b[0;32mexcept\u001b[0m \u001b[0mException\u001b[0m \u001b[0;32mas\u001b[0m \u001b[0me\u001b[0m\u001b[0;34m:\u001b[0m\u001b[0;34m\u001b[0m\u001b[0;34m\u001b[0m\u001b[0m\n\u001b[1;32m    897\u001b[0m                 \u001b[0mself\u001b[0m\u001b[0;34m.\u001b[0m\u001b[0mlog\u001b[0m\u001b[0;34m.\u001b[0m\u001b[0mwarning\u001b[0m\u001b[0;34m(\u001b[0m\u001b[0;34m\"Invalid Message:\"\u001b[0m\u001b[0;34m,\u001b[0m \u001b[0mexc_info\u001b[0m\u001b[0;34m=\u001b[0m\u001b[0;32mTrue\u001b[0m\u001b[0;34m)\u001b[0m\u001b[0;34m\u001b[0m\u001b[0;34m\u001b[0m\u001b[0m\n",
            "\u001b[0;31mKeyboardInterrupt\u001b[0m: Interrupted by user"
          ]
        }
      ],
      "source": [
        "def take_command():\n",
        "    print(\"Listening...\")\n",
        "    query = input(\"You: \")\n",
        "    return query\n",
        "\n",
        "if __name__ == '__main__':\n",
        "    print(\"Amigo assistance activated \")\n",
        "    print(\"How can I help you?\")\n",
        "\n",
        "    while True:\n",
        "        query = take_command().lower()\n",
        "\n",
        "        if 'wikipedia' in query:\n",
        "            print(\"Searching Wikipedia ...\")\n",
        "            query = query.replace(\"wikipedia\", '')\n",
        "            try:\n",
        "                results = \"Dummy Wikipedia summary for \" + query\n",
        "                print(\"According to Wikipedia:\")\n",
        "                print(results)\n",
        "            except:\n",
        "                print(\"Error: Unable to fetch Wikipedia information.\")\n",
        "\n",
        "        elif 'are you' in query:\n",
        "            print(\"I am Amigo, developed by Jaspreet Singh.\")\n",
        "\n",
        "        elif 'open youtube' in query:\n",
        "            print(\"Opening YouTube...\")\n",
        "            # Code to open YouTube in a web browser\n",
        "\n",
        "        elif 'open google' in query:\n",
        "            print(\"Opening Google...\")\n",
        "            # Code to open Google in a web browser\n",
        "\n",
        "        elif 'open github' in query:\n",
        "            print(\"Opening GitHub...\")\n",
        "            # Code to open GitHub in a web browser\n",
        "\n",
        "        elif 'open stackoverflow' in query:\n",
        "            print(\"Opening Stack Overflow...\")\n",
        "            # Code to open Stack Overflow in a web browser\n",
        "\n",
        "        elif 'open spotify' in query:\n",
        "            print(\"Opening Spotify...\")\n",
        "            # Code to open Spotify in a web browser\n",
        "\n",
        "        elif 'open whatsapp' in query:\n",
        "            print(\"Opening WhatsApp...\")\n",
        "            # Code to open WhatsApp application\n",
        "\n",
        "        elif 'play music' in query:\n",
        "            print(\"Playing music...\")\n",
        "            # Code to play music\n",
        "\n",
        "        elif 'local disk d' in query:\n",
        "            print(\"Opening Local Disk D...\")\n",
        "            # Code to open Local Disk D\n",
        "\n",
        "        elif 'local disk c' in query:\n",
        "            print(\"Opening Local Disk C...\")\n",
        "            # Code to open Local Disk C\n",
        "\n",
        "        elif 'local disk e' in query:\n",
        "            print(\"Opening Local Disk E...\")\n",
        "            # Code to open Local Disk E\n",
        "\n",
        "        elif 'sleep' in query:\n",
        "            print(\"Exiting Amigo.\")\n",
        "            break\n"
      ]
    }
  ]
}