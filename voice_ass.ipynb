{
  "nbformat": 4,
  "nbformat_minor": 0,
  "metadata": {
    "colab": {
      "provenance": [],
      "authorship_tag": "ABX9TyM1UvvkD/tyJdV9LSmQ5tKT",
      "include_colab_link": true
    },
    "kernelspec": {
      "name": "python3",
      "display_name": "Python 3"
    },
    "language_info": {
      "name": "python"
    }
  },
  "cells": [
    {
      "cell_type": "markdown",
      "metadata": {
        "id": "view-in-github",
        "colab_type": "text"
      },
      "source": [
        "<a href=\"https://colab.research.google.com/github/sindhu244/intermediate-task/blob/main/voice_ass.ipynb\" target=\"_parent\"><img src=\"https://colab.research.google.com/assets/colab-badge.svg\" alt=\"Open In Colab\"/></a>"
      ]
    },
    {
      "cell_type": "code",
      "execution_count": null,
      "metadata": {
        "id": "vRqDqCQrTeJH"
      },
      "outputs": [],
      "source": [
        "import pyttsx3\n",
        "import speech_recognition as sr\n",
        "import wikipedia\n",
        "import webbrowser\n",
        "import os\n",
        "\n",
        "# init pyttsx\n",
        "engine = pyttsx3.init(\"sapi5\")\n",
        "voices = engine.getProperty(\"voices\")\n",
        "\n",
        "engine.setProperty('voice', voices[1].id)  # 1 for female and 0 for male voice\n",
        "\n",
        "\n",
        "def speak(audio):\n",
        "    engine.say(audio)\n",
        "    engine.runAndWait()\n",
        "\n",
        "\n",
        "def take_command():\n",
        "    r = sr.Recognizer()\n",
        "    with sr.Microphone() as source:\n",
        "        print(\"Listening...\")\n",
        "        r.pause_threshold = 1\n",
        "        audio = r.listen(source)\n",
        "    try:\n",
        "        print(\"Recognizing...\")\n",
        "        query = r.recognize_google(audio, language='en-in')\n",
        "        print(\"User said:\" + query + \"\\n\")\n",
        "    except Exception as e:\n",
        "        print(e)\n",
        "        speak(\"I didnt understand\")\n",
        "        return \"None\"\n",
        "    return query\n",
        "\n",
        "\n",
        "if __name__ == '__main__':\n",
        "\n",
        "    speak(\"Amigo assistance activated \")\n",
        "    speak(\"How can i help you\")\n",
        "    while True:\n",
        "        query = take_command().lower()\n",
        "        if 'wikipedia' in query:\n",
        "            speak(\"Searching Wikipedia ...\")\n",
        "            query = query.replace(\"wikipedia\", '')\n",
        "            results = wikipedia.summary(query, sentences=2)\n",
        "            speak(\"According to wikipedia\")\n",
        "            speak(results)\n",
        "        elif 'are you' in query:\n",
        "            speak(\"I am amigo developed by Jaspreet Singh\")\n",
        "        elif 'open youtube' in query:\n",
        "            speak(\"opening youtube\")\n",
        "            webbrowser.open(\"youtube.com\")\n",
        "        elif 'open google' in query:\n",
        "            speak(\"opening google\")\n",
        "            webbrowser.open(\"google.com\")\n",
        "        elif 'open github' in query:\n",
        "            speak(\"opening github\")\n",
        "            webbrowser.open(\"github.com\")\n",
        "        elif 'open stackoverflow' in query:\n",
        "            speak(\"opening stackoverflow\")\n",
        "            webbrowser.open(\"stackoverflow.com\")\n",
        "        elif 'open spotify' in query:\n",
        "            speak(\"opening spotify\")\n",
        "            webbrowser.open(\"spotify.com\")\n",
        "        elif 'open whatsapp' in query:\n",
        "            speak(\"opening whatsapp\")\n",
        "            loc = \"C:\\\\Users\\\\jaspr\\\\AppData\\\\Local\\\\WhatsApp\\\\WhatsApp.exe\"\n",
        "            os.startfile(loc)\n",
        "        elif 'play music' in query:\n",
        "            speak(\"opening music\")\n",
        "            webbrowser.open(\"spotify.com\")\n",
        "        elif 'play music' in query:\n",
        "            speak(\"opening music\")\n",
        "            webbrowser.open(\"spotify.com\")\n",
        "        elif 'local disk d' in query:\n",
        "            speak(\"opening local disk D\")\n",
        "            webbrowser.open(\"D://\")\n",
        "        elif 'local disk c' in query:\n",
        "            speak(\"opening local disk C\")\n",
        "            webbrowser.open(\"C://\")\n",
        "        elif 'local disk e' in query:\n",
        "            speak(\"opening local disk E\")\n",
        "            webbrowser.open(\"E://\")\n",
        "        elif 'sleep' in query:\n",
        "            exit(0)\n"
      ]
    }
  ]
}